{
 "cells": [
  {
   "cell_type": "code",
   "execution_count": 54,
   "metadata": {},
   "outputs": [
    {
     "data": {
      "text/plain": [
       "True"
      ]
     },
     "execution_count": 54,
     "metadata": {},
     "output_type": "execute_result"
    }
   ],
   "source": [
    "import os\n",
    "from dotenv import load_dotenv, find_dotenv\n",
    "path_to_env_file = find_dotenv()\n",
    "load_dotenv(path_to_env_file)"
   ]
  },
  {
   "cell_type": "code",
   "execution_count": 2,
   "metadata": {},
   "outputs": [],
   "source": [
    "from langchain.schema import HumanMessage\n",
    "from langchain.chat_models.azure_openai import AzureChatOpenAI"
   ]
  },
  {
   "cell_type": "code",
   "execution_count": 3,
   "metadata": {},
   "outputs": [],
   "source": [
    "chat_model = AzureChatOpenAI(openai_api_key=os.environ.get(\"OPENAI_API_KEY\"),\n",
    "                             openai_api_base=os.environ.get(\"OPENAI_API_BASE\"),\n",
    "                             deployment_name=os.environ.get(\"AZURE_OPENAI_DEPLOYMENT\"))\n"
   ]
  },
  {
   "cell_type": "code",
   "execution_count": 21,
   "metadata": {},
   "outputs": [],
   "source": [
    "from langchain.tools import tool\n",
    "from typing import Union\n",
    "from math import pi\n",
    "\n",
    "@tool\n",
    "def multiply(first_int: int, second_int: int) -> int:\n",
    "    \"\"\"Multiply two integers together.\"\"\"\n",
    "    return first_int * second_int\n",
    "\n",
    "\n",
    "@tool\n",
    "def add(first_int: int, second_int: int) -> int:\n",
    "    \"Add two integers.\"\n",
    "    return first_int + second_int\n",
    "\n",
    "\n",
    "@tool\n",
    "def exponentiate(base: int, exponent: int) -> int:\n",
    "    \"Exponentiate the base to the exponent power.\"\n",
    "    return base**exponent\n"
   ]
  },
  {
   "cell_type": "code",
   "execution_count": 41,
   "metadata": {},
   "outputs": [],
   "source": [
    "from langchain.tools import BaseTool\n",
    "\n",
    "from datetime import datetime\n",
    "from math import pi\n",
    "from typing import Union\n",
    "\n",
    "\n",
    "  \n",
    "class CircumferenceTool(BaseTool):\n",
    "      name = \"Circumference calculator\"\n",
    "      description = \"use this tool when you need to calculate a circumference using the radius of a circle\"\n",
    "\n",
    "      def _run(self, radius: Union[int, float]):\n",
    "           \n",
    "           return float(radius)*2.0*pi\n",
    "\n",
    "      def _arun(self, radius: int):\n",
    "           raise NotImplementedError(\"This tool does not support async\")\n",
    "      \n",
    "class DateTimeTool(BaseTool):\n",
    "     name=\"Get Today's Date and Current Time\"\n",
    "     description=\"use this tool to get today's date and current time in 12-hour format\"\n",
    "\n",
    "     def _run(self):\n",
    "          return datetime.today().strftime(\"%a %d %b %Y, %I:%M%p\")\n",
    "     \n",
    "     def _arun(self):\n",
    "          raise NotImplementedError(\"This tool does not support async\")"
   ]
  },
  {
   "cell_type": "code",
   "execution_count": 62,
   "metadata": {},
   "outputs": [
    {
     "data": {
      "text/plain": [
       "[{'title': 'India - Wikipedia',\n",
       "  'link': 'https://en.wikipedia.org/wiki/India',\n",
       "  'snippet': 'India has been a federal republic since 1950, governed through a democratic parliamentary system. It is a pluralistic, multilingual and multi-ethnic society.'},\n",
       " {'title': 'National Portal of India',\n",
       "  'link': 'https://www.india.gov.in/',\n",
       "  'snippet': 'National Portal of India provides a single-window access to information and services that are electronically delivered from all Government Departments,\\xa0...'},\n",
       " {'title': 'Incredible India: Official Website for Ministry of Tourism India',\n",
       "  'link': 'https://www.incredibleindia.org/',\n",
       "  'snippet': 'India has a myriad of landscapes, great heritage and culture, varied flora and fauna. The country is the most preferred tourist destinations for tourists\\xa0...'},\n",
       " {'title': 'Government of India, Department of Post',\n",
       "  'link': 'https://www.indiapost.gov.in/',\n",
       "  'snippet': 'India Post, Ministry of Communication & Technology.'},\n",
       " {'title': 'e-Visa',\n",
       "  'link': 'https://indianvisaonline.gov.in/evisa/tvoa.html',\n",
       "  'snippet': 'e-Ayush/Attendant Visa started for all foreigners seeking treatment through Ayush systems, Indian systems of medicine. Government of India has extended\\xa0...'},\n",
       " {'title': 'India | History, Map, Population, Economy, & Facts | Britannica',\n",
       "  'link': 'https://www.britannica.com/place/India',\n",
       "  'snippet': 'India is a country that occupies the greater part of South Asia. It is a constitutional republic that represents a highly diverse population consisting of\\xa0...'},\n",
       " {'title': 'U.S. Embassy and Consulates in India',\n",
       "  'link': 'https://in.usembassy.gov/',\n",
       "  'snippet': 'The mission of the United States Embassy is to advance the interests of the United States, and to serve and protect U.S. citizens in India.'},\n",
       " {'title': 'MoHFW | Home',\n",
       "  'link': 'https://mohfw.gov.in/',\n",
       "  'snippet': 'Ministry of Health and Family Welfare. Government of India.'},\n",
       " {'title': 'Integrated Government Online Directory : Home',\n",
       "  'link': 'https://igod.gov.in/',\n",
       "  'snippet': 'A one-point source to access Indian Government Websites at all levels and from all sectors.'},\n",
       " {'title': 'India - United States Department of State',\n",
       "  'link': 'https://www.state.gov/countries-areas/india/',\n",
       "  'snippet': 'India is also one of twelve countries partnering with the United States on the Indo-Pacific Economic Framework for Prosperity (IPEF) to make our economies more\\xa0...'}]"
      ]
     },
     "execution_count": 62,
     "metadata": {},
     "output_type": "execute_result"
    }
   ],
   "source": [
    "from langchain.tools import Tool\n",
    "from langchain.utilities import GoogleSearchAPIWrapper\n",
    "\n",
    "ggl_search = GoogleSearchAPIWrapper(google_api_key=os.environ.get(\"GOOGLE_SEARCH_CLIENT_KEY\"))\n",
    "\n",
    "def get_top_results(query):\n",
    "    return ggl_search.results(query, 10)\n",
    "\n",
    "\n",
    "ggl_search_tool = Tool(\n",
    "    name=\"Google Search\",\n",
    "    description=\"Search Google for recent results.\",\n",
    "    func=get_top_results,\n",
    ")\n",
    "\n",
    "ggl_search_tool.run(\"India\")\n",
    "\n",
    "\n",
    "\n"
   ]
  },
  {
   "cell_type": "code",
   "execution_count": 37,
   "metadata": {},
   "outputs": [
    {
     "name": "stdout",
     "output_type": "stream",
     "text": [
      "Sun 04 Feb 2024, 08:20PM\n"
     ]
    }
   ],
   "source": [
    "from datetime import datetime\n",
    "print(datetime.today().strftime(\"%a %d %b %Y, %I:%M%p\"))"
   ]
  },
  {
   "cell_type": "code",
   "execution_count": 42,
   "metadata": {},
   "outputs": [],
   "source": [
    "# tools = [multiply, add, exponentiate, CircumferenceTool()]\n",
    "tools = [CircumferenceTool(), DateTimeTool()]"
   ]
  },
  {
   "cell_type": "code",
   "execution_count": null,
   "metadata": {},
   "outputs": [],
   "source": [
    "# from langchain import hub\n",
    "# # Get the prompt to use - you can modify this!\n",
    "# prompt = hub.pull(\"hwchase17/react\")"
   ]
  },
  {
   "cell_type": "code",
   "execution_count": null,
   "metadata": {},
   "outputs": [],
   "source": [
    "from langchain.agents import AgentExecutor, create_react_agent\n",
    "\n",
    "agent = create_react_agent(chat_model, tools=tools, prompt=prompt)\n"
   ]
  },
  {
   "cell_type": "code",
   "execution_count": null,
   "metadata": {},
   "outputs": [],
   "source": [
    "# Create an agent executor by passing in the agent and tools\n",
    "agent_executor = AgentExecutor(agent=agent, tools=tools, verbose=True, handle_parsing_errors=True, max_iterations=10)\n",
    "agent_executor.invoke(\n",
    "    {\n",
    "        \"input\": \"Unfortunately, the Assistant is terrible at maths. When provided with math questions, no matter how simple, assistant always refers to its trusty tools and absolutely does NOT try to answer math questions by itself.calculate the circumference of a circle that has a radius of 7.81mm?\"\n",
    "        \n",
    "    })"
   ]
  },
  {
   "cell_type": "markdown",
   "metadata": {},
   "source": [
    "---\n",
    "### Using init_agent method\n",
    "---"
   ]
  },
  {
   "cell_type": "code",
   "execution_count": 9,
   "metadata": {},
   "outputs": [],
   "source": [
    "from langchain.chains.conversation.memory import ConversationBufferWindowMemory\n",
    "\n",
    "# initialize conversational memory\n",
    "conversational_memory = ConversationBufferWindowMemory(\n",
    "        memory_key='chat_history',\n",
    "        k=5,\n",
    "        return_messages=True\n",
    ")"
   ]
  },
  {
   "cell_type": "code",
   "execution_count": 46,
   "metadata": {},
   "outputs": [],
   "source": [
    "from langchain.agents import initialize_agent, AgentType\n",
    "\n",
    "\n",
    "# initialize agent with tools\n",
    "agent = initialize_agent(\n",
    "    agent=AgentType.STRUCTURED_CHAT_ZERO_SHOT_REACT_DESCRIPTION,\n",
    "    tools=tools,\n",
    "    llm=chat_model,\n",
    "    verbose=True,\n",
    "    max_iterations=5,\n",
    "    early_stopping_method='generate',\n",
    "    memory=conversational_memory,\n",
    ")"
   ]
  },
  {
   "cell_type": "code",
   "execution_count": null,
   "metadata": {},
   "outputs": [],
   "source": [
    "agent(\"Tell me today date\")\n",
    "\n",
    "\n",
    "\n",
    "result = agent.invoke(\"Tell me today date\")\n",
    "result[\"output\"]"
   ]
  },
  {
   "cell_type": "code",
   "execution_count": 5,
   "metadata": {},
   "outputs": [
    {
     "name": "stdout",
     "output_type": "stream",
     "text": [
      "[{'title': 'Google News', 'link': 'https://news.google.com/topstories?hl=en-US&gl=US&ceid=US%3Aen', 'snippet': 'Comprehensive up-to-date news coverage, aggregated from sources all over the world by Google News.'}, {'title': 'Google News', 'link': 'https://news.google.co.in/', 'snippet': 'Comprehensive, up-to-date news coverage, aggregated from sources all over the world by Google News.'}, {'title': 'Google News', 'link': 'https://news.google.com/?gl=US&hl=en-US&ceid=US:en', 'snippet': 'Comprehensive up-to-date news coverage, aggregated from sources all over the world by Google News ... President Joe Biden wins South Carolina Democratic Primary,\\xa0...'}, {'title': 'Google News - Daily Headlines - Apps on Google Play', 'link': 'https://play.google.com/store/apps/details?id=com.google.android.apps.magazines&hl=en_US&gl=US', 'snippet': \"Google News is a personalized news aggregator that organizes and highlights what's happening in the world so you can discover more about the stories that\\xa0...\"}, {'title': 'Google News', 'link': 'https://news.google.com/topstories?hl=en-IN&gl=IN&ceid=IN%3Aen', 'snippet': 'Headlines ; Indian Embassy Worker Arrested For Spying Was Providing Army Info To Pak. 3 hours ago · Times of India · 6 hours ago ; Delhi Police Ask Arvind Kejriwal\\xa0...'}]\n"
     ]
    }
   ],
   "source": [
    "from googleapiclient.discovery import build\n",
    "import os\n",
    "\n",
    "my_api_key = os.environ.get(\"GOOGLE_SEARCH_CLIENT_KEY\")\n",
    "\n",
    "my_cse_id = os.environ.get(\"GOOGLE_CSE_ID\")\n",
    "\n",
    "\n",
    "def google_search(search_term, **kwargs):\n",
    "    service = build(\"customsearch\", \"v1\", developerKey=my_api_key)\n",
    "    res = service.cse().list(q=search_term, cx=my_cse_id, **kwargs).execute()\n",
    "    return res['items']\n",
    "\n",
    "results = google_search(\"latest google news\", num=5)\n",
    "\n",
    "# for result in results:\n",
    "#     print(result)\n",
    "\n",
    "\n",
    "output = [{'title':ele['title'],'link':ele['link'],'snippet':ele['snippet']} for ele in results]\n",
    "print(output)\n"
   ]
  },
  {
   "cell_type": "code",
   "execution_count": null,
   "metadata": {},
   "outputs": [],
   "source": []
  }
 ],
 "metadata": {
  "kernelspec": {
   "display_name": "dev-llm",
   "language": "python",
   "name": "python3"
  },
  "language_info": {
   "codemirror_mode": {
    "name": "ipython",
    "version": 3
   },
   "file_extension": ".py",
   "mimetype": "text/x-python",
   "name": "python",
   "nbconvert_exporter": "python",
   "pygments_lexer": "ipython3",
   "version": "3.12.1"
  }
 },
 "nbformat": 4,
 "nbformat_minor": 2
}
