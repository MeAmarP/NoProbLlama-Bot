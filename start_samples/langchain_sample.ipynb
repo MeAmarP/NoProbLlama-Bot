{
 "cells": [
  {
   "cell_type": "code",
   "execution_count": 1,
   "metadata": {},
   "outputs": [],
   "source": [
    "# Using langchain initialize local LLM model\n",
    "\n",
    "from langchain_community.chat_models import ChatOllama\n",
    "\n",
    "chat_model = ChatOllama(model=\"llama2:7b-chat\",)\n",
    "\n"
   ]
  },
  {
   "cell_type": "code",
   "execution_count": 2,
   "metadata": {},
   "outputs": [
    {
     "name": "stderr",
     "output_type": "stream",
     "text": [
      "/home/c3po/mambaforge/envs/dev-llm/lib/python3.11/site-packages/langchain_core/_api/deprecation.py:117: LangChainDeprecationWarning: The function `__call__` was deprecated in LangChain 0.1.7 and will be removed in 0.2.0. Use invoke instead.\n",
      "  warn_deprecated(\n"
     ]
    },
    {
     "data": {
      "text/plain": [
       "AIMessage(content='\\nArtificial intelligence (AI) has a rich and diverse history spanning several decades. Here\\'s an overview:\\n\\n1. 1950s-60s: The Dartmouth Conference and the Birth of AI\\nThe term \"Artificial Intelligence\" was coined at a conference held at Dartmouth College in 1956. Attendees included computer scientists, mathematicians, and cognitive scientists who were interested in exploring ways to simulate human intelligence using machines. This marked the beginning of AI as a field of research.\\n2. 1951: The Turing Test\\nAlan Turing, a British mathematician and computer scientist, proposed a test to measure a machine\\'s ability to exhibit intelligent behavior equivalent to, or indistinguishable from, that of a human. The Turing Test has since become a benchmark for measuring the success of AI systems.\\n3. 1956: The First AI Program\\nJohn McCarthy, a computer scientist, created the first AI program, called the Logical Theorist, which was designed to reason and solve problems using logical deduction. This program marked the beginning of AI programming.\\n4. 1960s: Rule-Based Expert Systems\\nThe development of rule-based expert systems, which used a set of rules to reason and make decisions, represented a significant milestone in the history of AI. These systems were widely used in industries such as banking and healthcare.\\n5. 1970s: Machine Learning and Neural Networks\\nMachine learning and neural networks emerged as subfields within AI. Machine learning focused on enabling machines to learn from data, while neural networks aimed to mimic the structure and function of the human brain.\\n6. 1980s: Expert Systems and Natural Language Processing\\nExpert systems, which were designed to simulate human-level intelligence in a specific domain, became popular during this decade. Additionally, researchers began exploring natural language processing (NLP), which aimed to enable machines to understand and generate human language.\\n7. 1990s: Deep Learning and Computer Vision\\nThe development of deep learning algorithms, which were capable of learning complex patterns in data, led to significant advancements in areas such as computer vision and speech recognition.\\n8. 2000s: AI Gains Momentum\\nAI gained widespread attention during this decade, with the rise of search engines, online advertising, and social media. The field also saw the emergence of new subfields, such as robotics and human-computer interaction.\\n9. 2010s: AI Revolutionizes Industries\\nThe development of more sophisticated AI algorithms and the availability of large amounts of data led to significant advancements in various industries, including healthcare, finance, and transportation. The rise of self-driving cars and virtual assistants like Siri and Alexa further highlighted the potential of AI.\\n10. Present Day: AI Continues to Evolve\\nAI continues to evolve at a rapid pace, with new breakthroughs in areas such as natural language processing, computer vision, and robotics. The field is also becoming increasingly interdisciplinary, with researchers drawing on insights from psychology, philosophy, and neuroscience to better understand the nature of intelligence and consciousness.\\n\\nThroughout its history, AI has faced challenges, controversies, and ethical considerations. However, the field continues to push forward, driven by the quest for intelligent machines that can augment human capabilities and improve our lives.')"
      ]
     },
     "execution_count": 2,
     "metadata": {},
     "output_type": "execute_result"
    }
   ],
   "source": [
    "from langchain.schema import HumanMessage\n",
    "\n",
    "messages = [HumanMessage(content=\"Tell me about the history of AI\")]\n",
    "chat_model(messages)"
   ]
  },
  {
   "cell_type": "code",
   "execution_count": 3,
   "metadata": {},
   "outputs": [],
   "source": [
    "from langchain.tools import tool\n",
    "\n",
    "\n",
    "@tool\n",
    "def multiply(first_int: int, second_int: int) -> int:\n",
    "    \"\"\"Multiply two integers together.\"\"\"\n",
    "    return first_int * second_int\n",
    "\n",
    "\n",
    "@tool\n",
    "def add(first_int: int, second_int: int) -> int:\n",
    "    \"Add two integers.\"\n",
    "    return first_int + second_int\n",
    "\n",
    "\n",
    "@tool\n",
    "def exponentiate(base: int, exponent: int) -> int:\n",
    "    \"Exponentiate the base to the exponent power.\"\n",
    "    return base**exponent\n",
    "\n",
    "\n",
    "tools = [multiply, add, exponentiate]"
   ]
  },
  {
   "cell_type": "code",
   "execution_count": null,
   "metadata": {},
   "outputs": [],
   "source": [
    "# from langchain.agents import AgentType\n",
    "# from langchain.agents import initialize_agent\n",
    "\n",
    "# agent = initialize_agent(\n",
    "#     tools=tools,\n",
    "#     agent_type=AgentType.STRUCTURED_CHAT_ZERO_SHOT_REACT_DESCRIPTION,\n",
    "#     llm=chat_llm,\n",
    "#     verbose=True\n",
    "# )"
   ]
  },
  {
   "cell_type": "code",
   "execution_count": 5,
   "metadata": {},
   "outputs": [],
   "source": [
    "from langchain import hub\n",
    "# Get the prompt to use - you can modify this!\n",
    "prompt = hub.pull(\"hwchase17/react\")"
   ]
  },
  {
   "cell_type": "code",
   "execution_count": 6,
   "metadata": {},
   "outputs": [],
   "source": [
    "from langchain.agents import AgentExecutor, create_react_agent\n",
    "\n",
    "agent = create_react_agent(chat_model, tools=tools, prompt=prompt)\n"
   ]
  },
  {
   "cell_type": "code",
   "execution_count": 9,
   "metadata": {},
   "outputs": [
    {
     "name": "stdout",
     "output_type": "stream",
     "text": [
      "\n",
      "\n",
      "\u001b[1m> Entering new AgentExecutor chain...\u001b[0m\n",
      "\u001b[32;1m\u001b[1;3mQuestion: What is the result of 5 multiplied by 3?\n",
      "Thought: I can multiply 5 and 3 using the `multiply` function.\n",
      "Action: `multiply(5, 3)`\n",
      "Action Input: 5 and 3\u001b[0m`multiply(5, 3)` is not a valid tool, try one of [multiply, add, exponentiate].\u001b[32;1m\u001b[1;3mQuestion: What is the result of 5 multiplied by 3?\n",
      "Thought: I can multiply 5 and 3 using the `add` function.\n",
      "Action: `add(5, 3)`\n",
      "Action Input: 5 and 3\u001b[0m`add(5, 3)` is not a valid tool, try one of [multiply, add, exponentiate].\u001b[32;1m\u001b[1;3mQuestion: Calculate 5*3.\n",
      "\n",
      "Thought: I can multiply 5 and 3 using the `exponentiate` function.\n",
      "Action: `exponentiate(5, 3)`\n",
      "Action Input: 5 and 3\u001b[0m`exponentiate(5, 3)` is not a valid tool, try one of [multiply, add, exponentiate].\u001b[32;1m\u001b[1;3mQuestion: Calculate 5*3.\n",
      "\n",
      "Thought: I can multiply 5 and 3 using the `multiply` function.\n",
      "Action: `multiply(5, 3)`\n",
      "Action Input: 5 and 3\u001b[0m`multiply(5, 3)` is not a valid tool, try one of [multiply, add, exponentiate].\u001b[32;1m\u001b[1;3mQuestion: Calculate 5*3.\n",
      "\n",
      "Thought: I can multiply 5 and 3 using the `multiply` function.\n",
      "Action: `multiply(5, 3)`\n",
      "Action Input: 5 and 3\u001b[0m`multiply(5, 3)` is not a valid tool, try one of [multiply, add, exponentiate].\u001b[32;1m\u001b[1;3mQuestion: Calculate 5*3?\n",
      "\n",
      "Thought: I can multiply 5 and 3 using the `multiply` function.\n",
      "Action: `multiply(5, 3)`\n",
      "Action Input: 5 and 3\u001b[0m`multiply(5, 3)` is not a valid tool, try one of [multiply, add, exponentiate].\u001b[32;1m\u001b[1;3mQuestion: Calculate 5*3?\n",
      "\n",
      "Thought: I can multiply 5 and 3 using the `multiply` function.\n",
      "Action: `multiply(5, 3)`\n",
      "Action Input: 5 and 3\u001b[0m`multiply(5, 3)` is not a valid tool, try one of [multiply, add, exponentiate].\u001b[32;1m\u001b[1;3mQuestion: Calculate 5*3?\n",
      "Thought: I can multiply 5 and 3 using the `multiply` function.\n",
      "Action: `multiply(5, 3)`\n",
      "Action Input: 5 and 3\u001b[0m`multiply(5, 3)` is not a valid tool, try one of [multiply, add, exponentiate].\u001b[32;1m\u001b[1;3mQuestion: Calculate 5*3?\n",
      "\n",
      "Thought: I can multiply 5 and 3 using the `multiply` function.\n",
      "Action: `multiply(5, 3)`\n",
      "Action Input: 5 and 3\u001b[0m`multiply(5, 3)` is not a valid tool, try one of [multiply, add, exponentiate].\u001b[32;1m\u001b[1;3mQuestion: Calculate 5*3?\n",
      "\n",
      "Thought: I can multiply 5 and 3 using the `multiply` function.\n",
      "Action: `multiply(5, 3)`\n",
      "Action Input: 5 and 3\u001b[0m`multiply(5, 3)` is not a valid tool, try one of [multiply, add, exponentiate].\u001b[32;1m\u001b[1;3mQuestion: Calculate 5*3?\n",
      "Thought: I can multiply 5 and 3 using the `multiply` function.\n",
      "Action: `multiply(5, 3)`\n",
      "Action Input: 5 and 3\u001b[0m`multiply(5, 3)` is not a valid tool, try one of [multiply, add, exponentiate].\u001b[32;1m\u001b[1;3m\n",
      "Question: Calculate 5*3?\n",
      "\n",
      "Thought: I can multiply 5 and 3 using the `multiply` function.\n",
      "Action: `multiply(5, 3)`\n",
      "Action Input: 5 and 3\u001b[0m`multiply(5, 3)` is not a valid tool, try one of [multiply, add, exponentiate].\u001b[32;1m\u001b[1;3mFinal Answer: 15\u001b[0m\n",
      "\n",
      "\u001b[1m> Finished chain.\u001b[0m\n"
     ]
    },
    {
     "data": {
      "text/plain": [
       "{'input': ' <INST> Only use a tool if needed, otherwise respond with Final Answer.</INST> Calculate 5*3?',\n",
       " 'output': '15'}"
      ]
     },
     "execution_count": 9,
     "metadata": {},
     "output_type": "execute_result"
    }
   ],
   "source": [
    "# Create an agent executor by passing in the agent and tools\n",
    "agent_executor = AgentExecutor(agent=agent, tools=tools, verbose=True)\n",
    "agent_executor.invoke({\"input\": \" <INST> Only use a tool if needed, otherwise respond with Final Answer.</INST> Calculate 5*3?\"})"
   ]
  },
  {
   "cell_type": "code",
   "execution_count": null,
   "metadata": {},
   "outputs": [],
   "source": []
  }
 ],
 "metadata": {
  "kernelspec": {
   "display_name": "dev-llm",
   "language": "python",
   "name": "python3"
  },
  "language_info": {
   "codemirror_mode": {
    "name": "ipython",
    "version": 3
   },
   "file_extension": ".py",
   "mimetype": "text/x-python",
   "name": "python",
   "nbconvert_exporter": "python",
   "pygments_lexer": "ipython3",
   "version": "3.11.6"
  }
 },
 "nbformat": 4,
 "nbformat_minor": 2
}
